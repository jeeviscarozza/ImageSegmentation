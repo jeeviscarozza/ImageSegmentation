{
 "cells": [
  {
   "cell_type": "code",
   "execution_count": 38,
   "metadata": {},
   "outputs": [],
   "source": [
    "import os\n",
    "import cv2\n",
    "import random\n",
    "from shutil import copyfile\n",
    "from sklearn.model_selection import train_test_split\n",
    "import torch\n",
    "import tensorflow as tf\n",
    "from pathlib import Path\n",
    "import numpy as np\n"
   ]
  },
  {
   "cell_type": "code",
   "execution_count": 16,
   "metadata": {},
   "outputs": [],
   "source": [
    "# Define the parent directory for the preprocessed data (path to final project)\n",
    "parent_dir = \"/Users/jeeviscarozza/Documents/Spring2024Physics/AICourse/FinalProject\"\n",
    "\n",
    "# Define paths\n",
    "images_dir = \"./preprocessed_data/Images\"\n",
    "masks_dir = \"./preprocessed_data/Masks\""
   ]
  },
  {
   "cell_type": "code",
   "execution_count": null,
   "metadata": {},
   "outputs": [
    {
     "name": "stdout",
     "output_type": "stream",
     "text": [
      "Train set: 5052 images\n",
      "Validation set: 631 images\n",
      "Test set: 632 images\n"
     ]
    }
   ],
   "source": [
    "# Create a new directory for preprocessed data within the same parent directory\n",
    "preprocessed_dir = os.path.join(parent_dir, \"preprocessed_data\")\n",
    "os.makedirs(preprocessed_dir, exist_ok=True)\n",
    "\n",
    "# Create directories for train, val, and test sets within the preprocessed data folder\n",
    "train_dir = os.path.join(preprocessed_dir, \"train\")\n",
    "val_dir = os.path.join(preprocessed_dir, \"val\")\n",
    "test_dir = os.path.join(preprocessed_dir, \"test\")\n",
    "os.makedirs(train_dir, exist_ok=True)\n",
    "os.makedirs(val_dir, exist_ok=True)\n",
    "os.makedirs(test_dir, exist_ok=True)\n",
    "\n",
    "# Get list of image file paths\n",
    "image_files = os.listdir(images_dir)\n",
    "# Shuffle the list for randomness\n",
    "random.shuffle(image_files)  \n",
    "\n",
    "# Split dataset into train, val, and test sets\n",
    "train_files, test_val_files = train_test_split(image_files, test_size=0.2, random_state=42)\n",
    "val_files, test_files = train_test_split(test_val_files, test_size=0.5, random_state=42)\n",
    "\n",
    "# Define function to copy files to respective directories\n",
    "def copy_files(file_list, source_dir, dest_dir):\n",
    "    for file in file_list:\n",
    "        image_path = os.path.join(source_dir, file)\n",
    "        mask_path = os.path.join(masks_dir, file) \n",
    "        dest_image_path = os.path.join(dest_dir, file)\n",
    "        dest_mask_path = os.path.join(dest_dir, f\"{os.path.splitext(file)[0]}_mask.png\")\n",
    "        copyfile(image_path, dest_image_path)\n",
    "        copyfile(mask_path, dest_mask_path)\n",
    "\n",
    "# Copy files to train, val, and test directories within the preprocessed data folder\n",
    "copy_files(train_files, images_dir, train_dir)\n",
    "copy_files(val_files, images_dir, val_dir)\n",
    "copy_files(test_files, images_dir, test_dir)\n",
    "\n",
    "# Display how many images are in each set\n",
    "print(f\"Train set: {len(train_files)} images\")\n",
    "print(f\"Validation set: {len(val_files)} images\")\n",
    "print(f\"Test set: {len(test_files)} images\")"
   ]
  },
  {
   "cell_type": "code",
   "execution_count": 33,
   "metadata": {},
   "outputs": [],
   "source": [
    "# define the paths to the train, val, and test directories\n",
    "train_path = Path(train_dir)\n",
    "val_path = Path(val_dir)\n",
    "test_path = Path(test_dir)"
   ]
  },
  {
   "cell_type": "code",
   "execution_count": 46,
   "metadata": {},
   "outputs": [],
   "source": [
    "def image_masks(data_dir):\n",
    "    data_dir = Path(data_dir)  # Convert to Path object\n",
    "    images = []\n",
    "    masks = []\n",
    "\n",
    "    for filename in data_dir.glob(\"*.png\"):\n",
    "        \n",
    "        # Check if the current file is a mask\n",
    "        if \"_mask\" in filename.stem:\n",
    "            continue  # Skip processing if it's a mask file\n",
    "\n",
    "        img = cv2.imread(str(filename))\n",
    "        images.append(img)\n",
    "\n",
    "        mask_filename = filename.stem + \"_mask.png\"\n",
    "        mask_path = filename.parent / mask_filename\n",
    "        mask = cv2.imread(str(mask_path), cv2.IMREAD_GRAYSCALE)\n",
    "        masks.append(mask)\n",
    "            \n",
    "    print(f\"Number of images: {len(images)}\")  \n",
    "    print(f\"Number of masks: {len(masks)}\")  \n",
    "    return np.array(images), np.expand_dims(np.array(masks), axis=-1)  "
   ]
  },
  {
   "cell_type": "code",
   "execution_count": 48,
   "metadata": {},
   "outputs": [
    {
     "ename": "KeyboardInterrupt",
     "evalue": "",
     "output_type": "error",
     "traceback": [
      "\u001b[0;31m---------------------------------------------------------------------------\u001b[0m",
      "\u001b[0;31mKeyboardInterrupt\u001b[0m                         Traceback (most recent call last)",
      "Cell \u001b[0;32mIn[48], line 1\u001b[0m\n\u001b[0;32m----> 1\u001b[0m train_images, train_masks \u001b[38;5;241m=\u001b[39m \u001b[43mimage_masks\u001b[49m\u001b[43m(\u001b[49m\u001b[43mtrain_dir\u001b[49m\u001b[43m)\u001b[49m\n\u001b[1;32m      2\u001b[0m val_images, val_masks \u001b[38;5;241m=\u001b[39m image_masks(val_dir)\n\u001b[1;32m      3\u001b[0m test_images, test_masks \u001b[38;5;241m=\u001b[39m image_masks(test_dir)\n",
      "Cell \u001b[0;32mIn[46], line 12\u001b[0m, in \u001b[0;36mimage_masks\u001b[0;34m(data_dir)\u001b[0m\n\u001b[1;32m      9\u001b[0m \u001b[38;5;28;01mif\u001b[39;00m \u001b[38;5;124m\"\u001b[39m\u001b[38;5;124m_mask\u001b[39m\u001b[38;5;124m\"\u001b[39m \u001b[38;5;129;01min\u001b[39;00m filename\u001b[38;5;241m.\u001b[39mstem:\n\u001b[1;32m     10\u001b[0m     \u001b[38;5;28;01mcontinue\u001b[39;00m  \u001b[38;5;66;03m# Skip processing if it's a mask file\u001b[39;00m\n\u001b[0;32m---> 12\u001b[0m img \u001b[38;5;241m=\u001b[39m \u001b[43mcv2\u001b[49m\u001b[38;5;241;43m.\u001b[39;49m\u001b[43mimread\u001b[49m\u001b[43m(\u001b[49m\u001b[38;5;28;43mstr\u001b[39;49m\u001b[43m(\u001b[49m\u001b[43mfilename\u001b[49m\u001b[43m)\u001b[49m\u001b[43m)\u001b[49m\n\u001b[1;32m     13\u001b[0m images\u001b[38;5;241m.\u001b[39mappend(img)\n\u001b[1;32m     15\u001b[0m mask_filename \u001b[38;5;241m=\u001b[39m filename\u001b[38;5;241m.\u001b[39mstem \u001b[38;5;241m+\u001b[39m \u001b[38;5;124m\"\u001b[39m\u001b[38;5;124m_mask.png\u001b[39m\u001b[38;5;124m\"\u001b[39m\n",
      "\u001b[0;31mKeyboardInterrupt\u001b[0m: "
     ]
    }
   ],
   "source": [
    "train_images, train_masks = image_masks(train_dir)"
   ]
  },
  {
   "cell_type": "code",
   "execution_count": 49,
   "metadata": {},
   "outputs": [
    {
     "name": "stdout",
     "output_type": "stream",
     "text": [
      "Number of images: 631\n",
      "Number of masks: 631\n"
     ]
    }
   ],
   "source": [
    "val_images, val_masks = image_masks(val_dir)"
   ]
  },
  {
   "cell_type": "code",
   "execution_count": 50,
   "metadata": {},
   "outputs": [
    {
     "name": "stdout",
     "output_type": "stream",
     "text": [
      "Number of images: 632\n",
      "Number of masks: 632\n"
     ]
    }
   ],
   "source": [
    "test_images, test_masks = image_masks(test_dir)"
   ]
  },
  {
   "cell_type": "code",
   "execution_count": 53,
   "metadata": {},
   "outputs": [
    {
     "name": "stdout",
     "output_type": "stream",
     "text": [
      "Train images shape: (5052, 400, 400, 3), Train masks shape: (5052, 400, 400, 1)\n",
      "Validation images shape: (631, 400, 400, 3), Validation masks shape: (631, 400, 400, 1)\n",
      "Test images shape: (632, 400, 400, 3), Test masks shape: (632, 400, 400, 1)\n"
     ]
    }
   ],
   "source": [
    "#print shape of images and masks\n",
    "print(f\"Train images shape: {train_images.shape}, Train masks shape: {train_masks.shape}\")\n",
    "print(f\"Validation images shape: {val_images.shape}, Validation masks shape: {val_masks.shape}\")\n",
    "print(f\"Test images shape: {test_images.shape}, Test masks shape: {test_masks.shape}\")"
   ]
  },
  {
   "cell_type": "code",
   "execution_count": 55,
   "metadata": {},
   "outputs": [],
   "source": [
    "# Display an image and its mask\n",
    "def display_img_mask(img, mask):\n",
    "    cv2.imshow(\"Image\", img)\n",
    "    cv2.imshow(\"Mask\", mask)\n",
    "    cv2.waitKey(0)\n",
    "    cv2.destroyAllWindows()"
   ]
  },
  {
   "cell_type": "code",
   "execution_count": null,
   "metadata": {},
   "outputs": [
    {
     "name": "stdout",
     "output_type": "stream",
     "text": [
      "[1 1 1 1 0 0 0 0 0 0 0 0 0 0 0 0 0 0 0 0 0 0 0 0 0 0 0 0 0 0 0 0 0 0 0 0 0\n",
      " 0 0 0 0 0 0 0 0 0 0 0 0 0 0 0 0 0 0 0 0 0 0 0 0 0 0 0 0 0 0 0 0 0 0 0 0 0\n",
      " 0 0 0 0 0 0 0 0 0 0 0 0 0 0 0 0 0 0 0 0 0 0 0 0 0 0 0 0 0 0 0 0 0 0 0 0 0\n",
      " 0 0 0 0 0 0 0 0 0 0 0 0 0 0 0 0 0 0 0 0 0 0 0 0 0 0 0 0 0 0 0 0 0 0 0 0 0\n",
      " 0 0 0 0 0 0 0 0 0 0 0 0 0 0 0 0 0 0 0 0 0 0 0 0 0 0 0 0 0 0 0 0 0 0 0 0 0\n",
      " 0 0 0 0 0 0 0 0 0 0 0 0 0 0 0]\n",
      "808320000 0.5238804478064116 85.2202101955135\n"
     ]
    }
   ],
   "source": [
    "# The following code is used for the class weights calculation, to address the class imbalance problem\n",
    "labels_flat = train_masks.flatten()\n",
    "print(labels_flat[0:200])\n",
    "\n",
    "n_samples = labels_flat.shape[0]\n",
    "weight_0 = n_samples / (2 * np.sum(labels_flat == 0))\n",
    "weight_1 = n_samples / (2 * np.sum(labels_flat == 1))\n",
    "print(n_samples, weight_0, weight_1)"
   ]
  },
  {
   "cell_type": "code",
   "execution_count": null,
   "metadata": {},
   "outputs": [],
   "source": []
  }
 ],
 "metadata": {
  "kernelspec": {
   "display_name": "env",
   "language": "python",
   "name": "python3"
  },
  "language_info": {
   "codemirror_mode": {
    "name": "ipython",
    "version": 3
   },
   "file_extension": ".py",
   "mimetype": "text/x-python",
   "name": "python",
   "nbconvert_exporter": "python",
   "pygments_lexer": "ipython3",
   "version": "3.11.9"
  }
 },
 "nbformat": 4,
 "nbformat_minor": 2
}
